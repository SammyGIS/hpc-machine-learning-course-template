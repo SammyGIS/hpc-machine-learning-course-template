{
 "cells": [
  {
   "cell_type": "markdown",
   "id": "97e8d865",
   "metadata": {
    "vscode": {
     "languageId": "plaintext"
    }
   },
   "source": [
    "# Random Forest Model"
   ]
  }
 ],
 "metadata": {
  "language_info": {
   "name": "python"
  }
 },
 "nbformat": 4,
 "nbformat_minor": 5
}
