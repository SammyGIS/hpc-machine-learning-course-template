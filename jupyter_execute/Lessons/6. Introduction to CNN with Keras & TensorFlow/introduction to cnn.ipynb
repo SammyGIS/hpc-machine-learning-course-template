{
 "cells": [
  {
   "cell_type": "markdown",
   "id": "2b5f8b74",
   "metadata": {
    "vscode": {
     "languageId": "plaintext"
    }
   },
   "source": [
    "# Introduction to CNN"
   ]
  }
 ],
 "metadata": {
  "language_info": {
   "name": "python"
  }
 },
 "nbformat": 4,
 "nbformat_minor": 5
}