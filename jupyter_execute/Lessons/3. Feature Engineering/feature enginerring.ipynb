{
 "cells": [
  {
   "cell_type": "markdown",
   "id": "f026efa0",
   "metadata": {
    "vscode": {
     "languageId": "plaintext"
    }
   },
   "source": [
    "# Feature Engineering"
   ]
  }
 ],
 "metadata": {
  "language_info": {
   "name": "python"
  }
 },
 "nbformat": 4,
 "nbformat_minor": 5
}