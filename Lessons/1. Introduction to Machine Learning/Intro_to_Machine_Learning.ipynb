{
 "cells": [
  {
   "cell_type": "markdown",
   "metadata": {},
   "source": []
  },
  {
   "cell_type": "markdown",
   "metadata": {},
   "source": [
    "## Applications of Machine Learning\n",
    "\n",
    "ML is used in many real-life situations, such as:\n",
    "\n",
    "- Predicting house prices based on features like size, location, etc.\n",
    "- Classifying emails as spam or not spam.\n",
    "- Recognizing faces in images.\n",
    "- Recommending products or content based on user behavior.\n",
    "- Predicting whether a patient has a disease based on medical data."
   ]
  },
  {
   "cell_type": "markdown",
   "metadata": {},
   "source": [
    "## Types of Machine Learning\n",
    "\n",
    "There are three main types of machine learning:"
   ]
  },
  {
   "cell_type": "markdown",
   "metadata": {},
   "source": [
    "### 1. Supervised Learning\n",
    "\n",
    "This is the most common type of machine learning.\n",
    "\n",
    "In supervised learning:\n",
    "\n",
    "- The dataset includes **input features** and **labels** (the correct answers).\n",
    "- The goal is to train a model to learn the relationship between the features and the label.\n",
    "\n",
    "**Example:**  \n",
    "You have data on student performance (hours studied, attendance, assignments) and whether they passed or failed. You train a model using this data to predict whether a new student will pass or fail."
   ]
  },
  {
   "cell_type": "markdown",
   "metadata": {},
   "source": [
    "### 2. Unsupervised Learning\n",
    "\n",
    "In unsupervised learning:\n",
    "\n",
    "- The dataset includes only **input features**, without any labels.\n",
    "- The goal is to find patterns or structures in the data.\n",
    "\n",
    "**Example:**  \n",
    "Grouping customers into segments based on their shopping behavior, without knowing who they are."
   ]
  },
  {
   "cell_type": "markdown",
   "metadata": {},
   "source": [
    "### 3. Reinforcement Learning (brief mention)\n",
    "\n",
    "In reinforcement learning:\n",
    "\n",
    "- The model learns by interacting with an environment.\n",
    "- It receives **rewards** or **penalties** based on its actions and tries to maximize the total reward over time.\n",
    "\n",
    "This is used in areas like robotics, game playing, and self-driving cars."
   ]
  },
  {
   "cell_type": "markdown",
   "metadata": {},
   "source": [
    "## Focus: Supervised Learning with Random Forest\n",
    "\n",
    "Let’s focus more on supervised learning using a model called **Random Forest**."
   ]
  },
  {
   "cell_type": "markdown",
   "metadata": {},
   "source": [
    "## What is Random Forest?\n",
    "\n",
    "Random Forest is a type of machine learning model used for both **classification** and **regression** tasks.\n",
    "\n",
    "It is based on a group of models called **decision trees**. A decision tree makes predictions by asking a series of questions and moving through branches based on the answers.\n",
    "\n",
    "Random Forest builds **many decision trees**, each trained on a slightly different sample of the data. It then combines the results of all the trees to make a final prediction.\n",
    "\n",
    "This process is known as **ensemble learning**, and it helps improve accuracy and reduce overfitting."
   ]
  },
  {
   "cell_type": "markdown",
   "metadata": {},
   "source": [
    "## Why Use Random Forest?\n",
    "\n",
    "- It works well with both small and large datasets.\n",
    "- It handles missing or unbalanced data better than single models.\n",
    "- It is less likely to overfit compared to a single decision tree.\n",
    "- It can give you the **importance of each feature**, helping to understand which variables are most useful for prediction."
   ]
  },
  {
   "cell_type": "markdown",
   "metadata": {},
   "source": [
    "## Simple Example: Predicting Student Success\n",
    "\n",
    "Suppose we want to build a model that predicts if a student will pass or fail.\n",
    "\n",
    "We collect data like:\n",
    "\n",
    "- Number of study hours per week\n",
    "- Attendance percentage\n",
    "- Whether homework is submitted\n",
    "\n",
    "We also know the outcome: Pass or Fail.\n",
    "\n",
    "We use this labeled data to train a Random Forest model. The model learns from the patterns and relationships in the data. Once trained, it can predict the outcome for new students based on their input features."
   ]
  },
  {
   "cell_type": "markdown",
   "metadata": {},
   "source": [
    "## Summary Table\n",
    "\n",
    "| Concept | Explanation |\n",
    "|--------|-------------|\n",
    "| Machine Learning | Computers learning from data instead of fixed rules |\n",
    "| Supervised Learning | Model learns from labeled data (with answers) |\n",
    "| Unsupervised Learning | Model finds patterns in data without labels |\n",
    "| Reinforcement Learning | Model learns by interacting and getting feedback |\n",
    "| Random Forest | A model that uses many decision trees and averages the results for better predictions |"
   ]
  }
 ],
 "metadata": {
  "kernelspec": {
   "display_name": "Python 3",
   "language": "python",
   "name": "python3"
  },
  "language_info": {
   "name": "python",
   "version": "3.x"
  }
 },
 "nbformat": 4,
 "nbformat_minor": 5
}
